{
 "cells": [
  {
   "cell_type": "code",
   "execution_count": 1,
   "metadata": {
    "collapsed": true
   },
   "outputs": [],
   "source": [
    "from Network import SVM\n",
    "import cProfile"
   ]
  },
  {
   "cell_type": "code",
   "execution_count": 2,
   "metadata": {
    "collapsed": true
   },
   "outputs": [],
   "source": [
    "svm = SVM()"
   ]
  },
  {
   "cell_type": "code",
   "execution_count": 4,
   "metadata": {
    "collapsed": true
   },
   "outputs": [],
   "source": [
    "def train(ntimes):\n",
    "    for i in range(ntimes):\n",
    "        svm.train(1, 2, 3)"
   ]
  },
  {
   "cell_type": "code",
   "execution_count": 9,
   "metadata": {
    "collapsed": false
   },
   "outputs": [
    {
     "name": "stdout",
     "output_type": "stream",
     "text": [
      "         480004 function calls in 0.269 seconds\n",
      "\n",
      "   Ordered by: standard name\n",
      "\n",
      "   ncalls  tottime  percall  cumtime  percall filename:lineno(function)\n",
      "        1    0.004    0.004    0.269    0.269 <ipython-input-4-09fb22457c4d>:1(train)\n",
      "        1    0.000    0.000    0.269    0.269 <string>:1(<module>)\n",
      "    10000    0.002    0.000    0.002    0.000 Gate.py:17(set_grad)\n",
      "    10000    0.002    0.000    0.002    0.000 Gate.py:20(get_value)\n",
      "    20000    0.009    0.000    0.009    0.000 Gate.py:29(set_input_value)\n",
      "    20000    0.021    0.000    0.023    0.000 Gate.py:39(forward)\n",
      "    20000    0.061    0.000    0.065    0.000 Gate.py:47(backward)\n",
      "    10000    0.009    0.000    0.024    0.000 Gate.py:60(forward)\n",
      "    40000    0.007    0.000    0.007    0.000 Gate.py:62(<genexpr>)\n",
      "    10000    0.013    0.000    0.014    0.000 Gate.py:64(backward)\n",
      "    10000    0.011    0.000    0.057    0.000 Network.py:33(forward)\n",
      "    10000    0.011    0.000    0.090    0.000 Network.py:38(__backward__)\n",
      "    10000    0.014    0.000    0.083    0.000 Network.py:43(predict)\n",
      "    10000    0.037    0.000    0.265    0.000 Network.py:49(train)\n",
      "    10000    0.032    0.000    0.043    0.000 Network.py:69(apply_gradient)\n",
      "   180000    0.021    0.000    0.021    0.000 Unit.py:32(__iter__)\n",
      "        1    0.000    0.000    0.269    0.269 {built-in method builtins.exec}\n",
      "   100000    0.007    0.000    0.007    0.000 {built-in method builtins.len}\n",
      "    10000    0.007    0.000    0.014    0.000 {built-in method builtins.sum}\n",
      "        1    0.000    0.000    0.000    0.000 {method 'disable' of '_lsprof.Profiler' objects}\n",
      "\n",
      "\n"
     ]
    }
   ],
   "source": [
    "cProfile.run('train(10000)')"
   ]
  },
  {
   "cell_type": "code",
   "execution_count": 6,
   "metadata": {
    "collapsed": false
   },
   "outputs": [
    {
     "name": "stdout",
     "output_type": "stream",
     "text": [
      "         4804 function calls in 0.004 seconds\n",
      "\n",
      "   Ordered by: standard name\n",
      "\n",
      "   ncalls  tottime  percall  cumtime  percall filename:lineno(function)\n",
      "        1    0.000    0.000    0.004    0.004 <ipython-input-4-09fb22457c4d>:1(train)\n",
      "        1    0.000    0.000    0.004    0.004 <string>:1(<module>)\n",
      "      100    0.000    0.000    0.000    0.000 Gate.py:17(set_grad)\n",
      "      100    0.000    0.000    0.000    0.000 Gate.py:20(get_value)\n",
      "      200    0.000    0.000    0.000    0.000 Gate.py:29(set_input_value)\n",
      "      200    0.000    0.000    0.000    0.000 Gate.py:39(forward)\n",
      "      200    0.001    0.000    0.001    0.000 Gate.py:47(backward)\n",
      "      100    0.000    0.000    0.000    0.000 Gate.py:60(forward)\n",
      "      400    0.000    0.000    0.000    0.000 Gate.py:62(<genexpr>)\n",
      "      100    0.000    0.000    0.000    0.000 Gate.py:64(backward)\n",
      "      100    0.000    0.000    0.001    0.000 Network.py:33(forward)\n",
      "      100    0.000    0.000    0.001    0.000 Network.py:38(__backward__)\n",
      "      100    0.000    0.000    0.001    0.000 Network.py:43(predict)\n",
      "      100    0.001    0.000    0.003    0.000 Network.py:49(train)\n",
      "      100    0.000    0.000    0.001    0.000 Network.py:69(apply_gradient)\n",
      "     1800    0.000    0.000    0.000    0.000 Unit.py:32(__iter__)\n",
      "        1    0.000    0.000    0.004    0.004 {built-in method builtins.exec}\n",
      "     1000    0.000    0.000    0.000    0.000 {built-in method builtins.len}\n",
      "      100    0.000    0.000    0.000    0.000 {built-in method builtins.sum}\n",
      "        1    0.000    0.000    0.000    0.000 {method 'disable' of '_lsprof.Profiler' objects}\n",
      "\n",
      "\n"
     ]
    }
   ],
   "source": [
    "cProfile.run('train(100)')"
   ]
  },
  {
   "cell_type": "code",
   "execution_count": 7,
   "metadata": {
    "collapsed": false
   },
   "outputs": [
    {
     "name": "stdout",
     "output_type": "stream",
     "text": [
      "         4804 function calls in 0.003 seconds\n",
      "\n",
      "   Ordered by: standard name\n",
      "\n",
      "   ncalls  tottime  percall  cumtime  percall filename:lineno(function)\n",
      "        1    0.000    0.000    0.003    0.003 <ipython-input-4-09fb22457c4d>:1(train)\n",
      "        1    0.000    0.000    0.003    0.003 <string>:1(<module>)\n",
      "      100    0.000    0.000    0.000    0.000 Gate.py:17(set_grad)\n",
      "      100    0.000    0.000    0.000    0.000 Gate.py:20(get_value)\n",
      "      200    0.000    0.000    0.000    0.000 Gate.py:29(set_input_value)\n",
      "      200    0.000    0.000    0.000    0.000 Gate.py:39(forward)\n",
      "      200    0.001    0.000    0.001    0.000 Gate.py:47(backward)\n",
      "      100    0.000    0.000    0.000    0.000 Gate.py:60(forward)\n",
      "      400    0.000    0.000    0.000    0.000 Gate.py:62(<genexpr>)\n",
      "      100    0.000    0.000    0.000    0.000 Gate.py:64(backward)\n",
      "      100    0.000    0.000    0.001    0.000 Network.py:33(forward)\n",
      "      100    0.000    0.000    0.001    0.000 Network.py:38(__backward__)\n",
      "      100    0.000    0.000    0.001    0.000 Network.py:43(predict)\n",
      "      100    0.000    0.000    0.003    0.000 Network.py:49(train)\n",
      "      100    0.000    0.000    0.001    0.000 Network.py:69(apply_gradient)\n",
      "     1800    0.000    0.000    0.000    0.000 Unit.py:32(__iter__)\n",
      "        1    0.000    0.000    0.003    0.003 {built-in method builtins.exec}\n",
      "     1000    0.000    0.000    0.000    0.000 {built-in method builtins.len}\n",
      "      100    0.000    0.000    0.000    0.000 {built-in method builtins.sum}\n",
      "        1    0.000    0.000    0.000    0.000 {method 'disable' of '_lsprof.Profiler' objects}\n",
      "\n",
      "\n"
     ]
    }
   ],
   "source": [
    "cProfile.run('train(100)')"
   ]
  },
  {
   "cell_type": "code",
   "execution_count": 29,
   "metadata": {
    "collapsed": false
   },
   "outputs": [
    {
     "name": "stdout",
     "output_type": "stream",
     "text": [
      "Value: 0.0, Grad: 0\n",
      "Value: 0.0, Grad: 0 (a)\n",
      "Value: 0.0, Grad: 0\n",
      "Value: 0.0, Grad: 0 (b)\n",
      "Value: 0.0, Grad: 0\n",
      "Value: 0.0, Grad: 0 (c)\n"
     ]
    }
   ],
   "source": [
    "svm.ucreator.print_nodes()"
   ]
  }
 ],
 "metadata": {
  "anaconda-cloud": {},
  "kernelspec": {
   "display_name": "Python [Root]",
   "language": "python",
   "name": "Python [Root]"
  },
  "language_info": {
   "codemirror_mode": {
    "name": "ipython",
    "version": 3
   },
   "file_extension": ".py",
   "mimetype": "text/x-python",
   "name": "python",
   "nbconvert_exporter": "python",
   "pygments_lexer": "ipython3",
   "version": "3.5.1"
  }
 },
 "nbformat": 4,
 "nbformat_minor": 0
}
