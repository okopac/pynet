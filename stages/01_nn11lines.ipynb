{
 "cells": [
  {
   "cell_type": "code",
   "execution_count": 1,
   "metadata": {
    "collapsed": false
   },
   "outputs": [],
   "source": [
    "import numpy as np\n",
    "import matplotlib.pyplot as plt\n",
    "%matplotlib inline"
   ]
  },
  {
   "cell_type": "code",
   "execution_count": 25,
   "metadata": {
    "collapsed": false
   },
   "outputs": [
    {
     "data": {
      "text/plain": [
       "array([[  1.49069691e-04],\n",
       "       [  1.02303536e-04],\n",
       "       [  9.93033121e-01],\n",
       "       [  9.89880102e-01]])"
      ]
     },
     "execution_count": 25,
     "metadata": {},
     "output_type": "execute_result"
    },
    {
     "data": {
      "image/png": "[encoded data removed]",
      "text/plain": [
       "<matplotlib.figure.Figure at 0x10f1fb048>"
      ]
     },
     "metadata": {},
     "output_type": "display_data"
    }
   ],
   "source": [
    "import numpy as np\n",
    "\n",
    "# input dataset\n",
    "X = np.array([  [0,0,1],\n",
    "                [0,1,1],\n",
    "                [1,0,1],\n",
    "                [1,1,1] ])\n",
    "    \n",
    "# output dataset            \n",
    "y = np.array([[0,0,1,1]]).T\n",
    "\n",
    "# initial weights\n",
    "syn0 = np.random.random((3,1)) * 2 - 1\n",
    "\n",
    "# activation function. derivative is wrt y\n",
    "def sigmoid(x, deriv=False):\n",
    "    if deriv:\n",
    "        return 1 * (1 - x)\n",
    "    return 1 / (1 + np.exp(-x))\n",
    "\n",
    "errs = []\n",
    "\n",
    "for i in range(10000):\n",
    "    l0 = X\n",
    "    l1 = sigmoid(np.dot(l0, syn0))\n",
    "    \n",
    "    l1_error = y - l1\n",
    "    errs.append(np.mean(l1_error))\n",
    "    \n",
    "    l1_delta = l1_error * sigmoid(l1, deriv=True)\n",
    "    \n",
    "    syn0 += np.dot(l0.T, l1_delta)\n",
    "    \n",
    "plt.plot(errs)\n",
    "l1"
   ]
  }
 ],
 "metadata": {
  "anaconda-cloud": {},
  "kernelspec": {
   "display_name": "Python [datascience]",
   "language": "python",
   "name": "Python [datascience]"
  },
  "language_info": {
   "codemirror_mode": {
    "name": "ipython",
    "version": 3
   },
   "file_extension": ".py",
   "mimetype": "text/x-python",
   "name": "python",
   "nbconvert_exporter": "python",
   "pygments_lexer": "ipython3",
   "version": "3.5.2"
  }
 },
 "nbformat": 4,
 "nbformat_minor": 0
}
