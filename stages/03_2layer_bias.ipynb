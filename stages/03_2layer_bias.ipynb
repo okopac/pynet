{
 "cells": [
  {
   "cell_type": "code",
   "execution_count": 1,
   "metadata": {
    "collapsed": false
   },
   "outputs": [],
   "source": [
    "import numpy as np\n",
    "import matplotlib.pyplot as plt\n",
    "%matplotlib inline"
   ]
  },
  {
   "cell_type": "code",
   "execution_count": 18,
   "metadata": {
    "collapsed": false
   },
   "outputs": [
    {
     "data": {
      "text/plain": [
       "array([[ 0.,  0.,  1.,  1.],\n",
       "       [ 0.,  1.,  1.,  1.],\n",
       "       [ 1.,  0.,  1.,  1.],\n",
       "       [ 1.,  1.,  1.,  1.]])"
      ]
     },
     "execution_count": 18,
     "metadata": {},
     "output_type": "execute_result"
    }
   ],
   "source": [
    "np.hstack((X,np.ones((4,1))))\n"
   ]
  },
  {
   "cell_type": "code",
   "execution_count": 29,
   "metadata": {
    "collapsed": false
   },
   "outputs": [
    {
     "name": "stdout",
     "output_type": "stream",
     "text": [
      "(4, 3)\n",
      "[[0]\n",
      " [1]\n",
      " [1]\n",
      " [0]]\n"
     ]
    },
    {
     "data": {
      "text/plain": [
       "[<matplotlib.lines.Line2D at 0x10f2bbcf8>]"
      ]
     },
     "execution_count": 29,
     "metadata": {},
     "output_type": "execute_result"
    },
    {
     "data": {
      "image/png": "[encoded data removed]",
      "text/plain": [
       "<matplotlib.figure.Figure at 0x10fd22cc0>"
      ]
     },
     "metadata": {},
     "output_type": "display_data"
    }
   ],
   "source": [
    "import numpy as np\n",
    "\n",
    "# input dataset\n",
    "X = np.array([  [0,0,1],\n",
    "                [0,1,1],\n",
    "                [1,0,1],\n",
    "                [1,1,1] ])\n",
    "    \n",
    "print(X.shape)\n",
    "\n",
    "# output dataset            \n",
    "y = np.array([[0,1,1,0]]).T\n",
    "\n",
    "np.random.seed(1)\n",
    "\n",
    "print(y)\n",
    "\n",
    "# initial weights\n",
    "syn0 = 2 * np.random.random((4,5)) - 1\n",
    "syn1 = 2 * np.random.random((6,1)) - 1\n",
    "\n",
    "# activation function. derivative is wrt y\n",
    "def sigmoid(x, deriv=False):\n",
    "    if deriv:\n",
    "        return x * (1 - x)\n",
    "    return 1 / (1 + np.exp(-x))\n",
    "\n",
    "errs = []\n",
    "\n",
    "# 4 - number of examples\n",
    "\n",
    "# 3 - size of input vector (l0)\n",
    "#     - syn0 = 4,5 weights\n",
    "# 5 - size of hidden layer (l1)\n",
    "#     - syn1 = 6,1 weights\n",
    "# 1 - size of output       (l2)\n",
    "\n",
    "for i in range(60000):\n",
    "    l0 = np.hstack((X, np.ones((4,1)))) # 4,4\n",
    "\n",
    "    l1 = np.hstack((sigmoid(np.dot(l0, syn0)), np.ones((4,1)))) # 4,4 . 4,5 = 4,5 -> 4,6\n",
    "\n",
    "    l2 = sigmoid(np.dot(l1, syn1)) # 4,6 . 6,1 = 4,1\n",
    "    \n",
    "    l2_error = y - l2 # 4,1\n",
    "    \n",
    "    if i % 1000 == 0:\n",
    "        errs.append(np.mean(np.abs(l2_error)))\n",
    "    \n",
    "    l2_delta = l2_error * sigmoid(l2, deriv=True)\n",
    "    \n",
    "    l1_error = l2_delta.dot(syn1.T) # 4,1 . 1,6 = 4,6\n",
    "    \n",
    "    l1_delta = l1_error * sigmoid(l1, deriv=True)\n",
    "    \n",
    "    syn1 += l1.T.dot(l2_delta) #  6,4 . 4,1 = 6,1 \n",
    "    \n",
    "    # when passing back the error through the network, we don't propagate the signal from the bias node\n",
    "    syn0 += l0.T.dot(l1_delta[:,:-1]) #  4,4 . 4,6 = 4,6\n",
    "    \n",
    "plt.plot(errs)\n"
   ]
  }
 ],
 "metadata": {
  "anaconda-cloud": {},
  "kernelspec": {
   "display_name": "Python [datascience]",
   "language": "python",
   "name": "Python [datascience]"
  },
  "language_info": {
   "codemirror_mode": {
    "name": "ipython",
    "version": 3
   },
   "file_extension": ".py",
   "mimetype": "text/x-python",
   "name": "python",
   "nbconvert_exporter": "python",
   "pygments_lexer": "ipython3",
   "version": "3.5.2"
  }
 },
 "nbformat": 4,
 "nbformat_minor": 0
}
